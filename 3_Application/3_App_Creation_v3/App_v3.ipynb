{
 "cells": [
  {
   "cell_type": "markdown",
   "metadata": {},
   "source": [
    "# JNL Classification App"
   ]
  },
  {
   "cell_type": "markdown",
   "metadata": {},
   "source": [
    "References:\n",
    "\n",
    "* https://www.w3schools.com/colors/colors_picker.asp\n",
    "* https://stackoverflow.com/questions/47949173/deploy-a-python-app-to-heroku-using-conda-environments-instead-of-virtualenv"
   ]
  },
  {
   "cell_type": "markdown",
   "metadata": {},
   "source": [
    "When deploying, remember to change Bs4 `html5lib` to `html.parser`."
   ]
  },
  {
   "cell_type": "code",
   "execution_count": 1,
   "metadata": {},
   "outputs": [],
   "source": [
    "import pickle\n",
    "import pandas as pd\n",
    "import nltk\n",
    "from nltk.corpus import stopwords\n",
    "from nltk.tokenize import punkt\n",
    "from nltk.corpus.reader import wordnet\n",
    "from nltk.stem import WordNetLemmatizer\n",
    "from sklearn.feature_extraction.text import TfidfVectorizer\n",
    "import requests\n",
    "from bs4 import BeautifulSoup\n",
    "import numpy as np\n",
    "import dash\n",
    "import dash_core_components as dcc\n",
    "import dash_html_components as html\n",
    "import dash_table\n",
    "import dash_renderer\n",
    "from dash.dependencies import Input, Output, State\n",
    "import plotly.graph_objs as go\n",
    "import re"
   ]
  },
  {
   "cell_type": "markdown",
   "metadata": {},
   "source": [
    "## 1. Importing inputs"
   ]
  },
  {
   "cell_type": "markdown",
   "metadata": {},
   "source": [
    "### 1.1. Trained Model"
   ]
  },
  {
   "cell_type": "markdown",
   "metadata": {},
   "source": [
    "The best performing model is the SVM. We'll use it in the app."
   ]
  },
  {
   "cell_type": "code",
   "execution_count": 2,
   "metadata": {},
   "outputs": [],
   "source": [
    "path_models = \"../../2_Machine_Learning/3_Model_Training/Models/\"\n",
    "\n",
    "# SVM\n",
    "path_svm = path_models + 'best_svc.pickle'\n",
    "with open(path_svm, 'rb') as data:\n",
    "    svc_model = pickle.load(data)"
   ]
  },
  {
   "cell_type": "markdown",
   "metadata": {},
   "source": [
    "### 1.2. TF-IDF object"
   ]
  },
  {
   "cell_type": "code",
   "execution_count": 3,
   "metadata": {},
   "outputs": [],
   "source": [
    "path_tfidf = \"../../2_Machine_Learning/2_Feature_Engineering/Pickles/tfidf.pickle\"\n",
    "\n",
    "with open(path_tfidf, 'rb') as data:\n",
    "    tfidf = pickle.load(data)"
   ]
  },
  {
   "cell_type": "markdown",
   "metadata": {},
   "source": [
    "### 1.3. Category mapping dictionary"
   ]
  },
  {
   "cell_type": "code",
   "execution_count": 4,
   "metadata": {},
   "outputs": [],
   "source": [
    "category_codes = {\n",
    "    'business': 0,\n",
    "    'entertainment': 1,\n",
    "    'politics': 2,\n",
    "    'sport': 3,\n",
    "    'tech': 4,\n",
    "    'other':5\n",
    "}"
   ]
  },
  {
   "cell_type": "markdown",
   "metadata": {},
   "source": [
    "## 2. Definition of functions"
   ]
  },
  {
   "cell_type": "markdown",
   "metadata": {},
   "source": [
    "### 2.1. Feature Engineering Functions"
   ]
  },
  {
   "cell_type": "code",
   "execution_count": 5,
   "metadata": {},
   "outputs": [],
   "source": [
    "punctuation_signs = list(\"?:!.,;\")\n",
    "stop_words = list(stopwords.words('english'))\n",
    "\n",
    "def create_features_from_text(text):\n",
    "    \n",
    "    # Dataframe creation\n",
    "    data = [[text]]\n",
    "    df = pd.DataFrame(data, columns = ['Content'])\n",
    "    df['Content_Parsed_1'] = df['Content'].str.replace(\"\\r\", \" \")\n",
    "    df['Content_Parsed_1'] = df['Content_Parsed_1'].str.replace(\"\\n\", \" \")\n",
    "    df['Content_Parsed_1'] = df['Content_Parsed_1'].str.replace(\"    \", \" \")\n",
    "    df['Content_Parsed_1'] = df['Content_Parsed_1'].str.replace('\"', '')\n",
    "    df['Content_Parsed_2'] = df['Content_Parsed_1'].str.lower()\n",
    "    df['Content_Parsed_3'] = df['Content_Parsed_2']\n",
    "    for punct_sign in punctuation_signs:\n",
    "        df['Content_Parsed_3'] = df['Content_Parsed_3'].str.replace(punct_sign, '')\n",
    "    df['Content_Parsed_4'] = df['Content_Parsed_3'].str.replace(\"'s\", \"\")\n",
    "    lemmatized_text_list = []\n",
    "    wordnet_lemmatizer = WordNetLemmatizer()\n",
    "    lemmatized_list = []\n",
    "    text = df.loc[0]['Content_Parsed_4']\n",
    "    text_words = text.split(\" \")\n",
    "    for word in text_words:\n",
    "        lemmatized_list.append(wordnet_lemmatizer.lemmatize(word, pos=\"v\"))\n",
    "    lemmatized_text = \" \".join(lemmatized_list)    \n",
    "    lemmatized_text_list.append(lemmatized_text)\n",
    "    df['Content_Parsed_5'] = lemmatized_text_list[0]\n",
    "    df['Content_Parsed_6'] = df['Content_Parsed_5']\n",
    "    for stop_word in stop_words:\n",
    "        regex_stopword = r\"\\b\" + stop_word + r\"\\b\"\n",
    "        df['Content_Parsed_6'] = df['Content_Parsed_6'].str.replace(regex_stopword, '')\n",
    "    \n",
    "    df = df.rename(columns={'Content_Parsed_6': 'Content_Parsed'})\n",
    "    df = df['Content_Parsed']\n",
    "    # TF-IDF\n",
    "    features = tfidf.transform(df).toarray()\n",
    "    \n",
    "    return features"
   ]
  },
  {
   "cell_type": "code",
   "execution_count": 6,
   "metadata": {},
   "outputs": [],
   "source": [
    "def get_category_name(category_id):\n",
    "    for category, id_ in category_codes.items():    \n",
    "        if id_ == category_id:\n",
    "            return category"
   ]
  },
  {
   "cell_type": "markdown",
   "metadata": {},
   "source": [
    "### 2.2. Prediction Functions"
   ]
  },
  {
   "cell_type": "code",
   "execution_count": 7,
   "metadata": {},
   "outputs": [],
   "source": [
    "def predict_from_text(text):\n",
    "    \n",
    "    # Predict using the input model\n",
    "    pred = svc_model.predict(create_features_from_text(text))\n",
    "    prediction_svc = pred[0]\n",
    "    prediction_svc_proba = svc_model.predict_proba(create_features_from_text(text))[0]\n",
    "    \n",
    "    print(\"pred: %s.\" %(pred))\n",
    "    print(\"prediction_svc: %s.\" %(prediction_svc))\n",
    "    print(\"prediction_svc_proba: %s.\" %(prediction_svc_proba))\n",
    "    \n",
    "    # Return result\n",
    "    category_svc = get_category_name(prediction_svc)\n",
    "    \n",
    "    print(\"The predicted category using the SVM model is %s.\" %(category_svc) )\n",
    "    print(\"The conditional probability is: %a\" %(prediction_svc_proba.max()*100))\n",
    "    \n",
    "    returnStatement = \"The predicted category using the SVM model is: \"\n",
    "    returnStatement += str(category_svc)\n",
    "    returnStatement += \".\\nThe conditional probability is: \"\n",
    "    returnStatement += str(prediction_svc_proba.max()*100)\n",
    "    \n",
    "    return returnStatement, category_svc"
   ]
  },
  {
   "cell_type": "code",
   "execution_count": 8,
   "metadata": {},
   "outputs": [],
   "source": [
    "def complete_df(df, categories):\n",
    "    df['Prediction'] = categories\n",
    "    return df"
   ]
  },
  {
   "cell_type": "markdown",
   "metadata": {},
   "source": [
    "Finally, the whole process can be written in these 4 lines of code:"
   ]
  },
  {
   "cell_type": "markdown",
   "metadata": {},
   "source": [
    "```python\n",
    "# Predict\n",
    "predictions = predict_from_text(value)\n",
    "    \n",
    "#Output\n",
    "if n_clicks > 0:\n",
    "    return 'You have entered: \\n{}'.format(predictions)\n",
    "```"
   ]
  },
  {
   "cell_type": "markdown",
   "metadata": {},
   "source": [
    "## 3. Dash App"
   ]
  },
  {
   "cell_type": "code",
   "execution_count": 9,
   "metadata": {},
   "outputs": [],
   "source": [
    "# Stylesheet\n",
    "external_stylesheets = ['https://codepen.io/chriddyp/pen/bWLwgP.css']\n",
    "\n",
    "app = dash.Dash(__name__, external_stylesheets=external_stylesheets)\n",
    "\n",
    "# Colors\n",
    "colors = {\n",
    "    'background': '#ECECEC',  \n",
    "    'text': '#696969',\n",
    "    'titles': '#599ACF',\n",
    "    'blocks': '#F7F7F7',\n",
    "    'graph_background': '#F7F7F7',\n",
    "    'banner': '#C3DCF2'\n",
    "\n",
    "}\n",
    "\n",
    "# Markdown text\n",
    "markdown_text1 = '''\n",
    "\n",
    "This application takes in TC Journal File Logs, predicts their category between **Politics**, **Business**, **Entertainment**, **Sport**, **Tech** and **Other** and then shows a summary.\n",
    "\n",
    "The logs are converted into a numeric feature vector with *TF-IDF vectorization*. Then, a *Support Vector Classifier* is applied to predict each category.\n",
    "\n",
    "This app is meant for POC purposes.\n",
    "\n",
    "Please enter the logs and press the **Classify** button.\n",
    "\n",
    "'''\n",
    "\n",
    "markdown_text2 = '''\n",
    "\n",
    " Created by Tejas Bhatia. Visit the [github repo](https://github.com/imp924/jnlPrediction).\n",
    "\n",
    " *Disclaimer: this app is a Proof-of-Concept Side Project. Only a small section of Teamcenter logs are tested.*\n",
    "\n",
    "'''\n",
    "\n",
    "\n",
    "\n",
    "app.layout = html.Div(style={'backgroundColor':colors['background']}, children=[\n",
    "    \n",
    "    # Space before title\n",
    "    html.H1(children=' ',\n",
    "            style={'padding': '10px'}\n",
    "           ),\n",
    "    \n",
    "    # Title\n",
    "    html.Div(\n",
    "        [\n",
    "            html.H3(children='JNL Classification App',\n",
    "                    style={\"margin-bottom\": \"0px\"}\n",
    "                   ),\n",
    "            html.H6(children='A Machine Learning based app')\n",
    "        ],\n",
    "        style={\n",
    "            'textAlign': 'center',\n",
    "            'color': colors['text'],\n",
    "            #'padding': '0px',\n",
    "            'backgroundColor': colors['background']\n",
    "              },\n",
    "        className='banner',\n",
    "            ),\n",
    "    \n",
    "\n",
    "    # Space after title\n",
    "    html.H1(children=' ',\n",
    "            style={'padding': '1px'}),\n",
    "\n",
    "\n",
    "    # Text boxes\n",
    "    html.Div(\n",
    "        [\n",
    "            html.Div(\n",
    "                [\n",
    "                    html.H6(children='What does this app do?',\n",
    "                            style={'color':colors['titles']}),\n",
    "                    \n",
    "                    html.Div(\n",
    "                        [dcc.Markdown(children=markdown_text1),],\n",
    "                        style={'font-size': '12px',\n",
    "                               'color': colors['text']}),\n",
    "                    \n",
    "                    html.Div([\n",
    "                        dcc.Textarea(\n",
    "                            id='textarea-state-example',\n",
    "                            value='Textarea content initialized\\nwith multiple lines of text',\n",
    "                            style={'width': '100%', 'height': 200},\n",
    "                        ),\n",
    "                        html.Button('Submit', id='textarea-state-example-button', n_clicks=0)\n",
    "                        \n",
    "                    ])                                                  \n",
    "                ],\n",
    "                     style={'backgroundColor': colors['blocks'],\n",
    "                            'padding': '20px',\n",
    "                            'border-radius': '5px',\n",
    "                            'box-shadow': '1px 1px 1px #9D9D9D'},\n",
    "                     className='one-half column'),\n",
    "            \n",
    "            html.Div(\n",
    "                [\n",
    "                    html.H6(\"Graphic summary\",\n",
    "                            style={'color': colors['titles']}),\n",
    "                    \n",
    "                    html.Div(id='textarea-state-example-output', style={'whiteSpace': 'pre-line'}),\n",
    "                    \n",
    "                    html.Div([\n",
    "                         dcc.Graph(id='graph2', style={'height': '300px'})\n",
    "                         ],\n",
    "                         style={'backgroundColor': colors['blocks'],\n",
    "                                'padding': '20px'}\n",
    "                    )\n",
    "                ],\n",
    "                     style={'backgroundColor': colors['blocks'],\n",
    "                            'padding': '20px',\n",
    "                            'border-radius': '5px',\n",
    "                            'box-shadow': '1px 1px 1px #9D9D9D'},\n",
    "                     className='one-half column')\n",
    "\n",
    "        ],\n",
    "        className=\"row flex-display\",\n",
    "        style={'padding': '20px',\n",
    "               'margin-bottom': '0px'}\n",
    "    ),\n",
    "    \n",
    "        \n",
    "    # Space\n",
    "    html.H1(id='space2', children=' '),\n",
    "        \n",
    "    \n",
    "    # Final paragraph\n",
    "    html.Div(\n",
    "            [dcc.Markdown(children=markdown_text2),],\n",
    "            style={'font-size': '12px',\n",
    "                   'color': colors['text']}),\n",
    "\n",
    "    \n",
    "    # Hidden div inside the app that stores the intermediate value\n",
    "    html.Div(id='intermediate-value', style={'display': 'none'})\n",
    "    \n",
    "\n",
    "])\n",
    "\n",
    "@app.callback(\n",
    "    Output('textarea-state-example-output', 'children'),\n",
    "    Output('graph2', 'figure'),\n",
    "    Input('textarea-state-example-button', 'n_clicks'),\n",
    "    State('textarea-state-example', 'value')\n",
    ")\n",
    "def scrape_and_predict(n_clicks, value):\n",
    "            \n",
    "\n",
    "    # Predict\n",
    "    predStatement, predictions = predict_from_text(value)\n",
    "    \n",
    "    #Output\n",
    "    statement = \"\"\n",
    "    if n_clicks > 0:\n",
    "        statement = 'You have entered: \\n{}'.format(predStatement)\n",
    "    \n",
    "    data = [[predictions]]\n",
    "    df = pd.DataFrame(data, columns = ['Prediction'])\n",
    "    \n",
    "    #dfJson = df.to_json(date_format='iso', orient='split'), ' '\n",
    "    figure = update_piechart(df)\n",
    "    \n",
    "    return statement, figure\n",
    "        \n",
    "def update_piechart(df):\n",
    "    \n",
    "    # Create a summary df\n",
    "    df_sum = df['Prediction'].value_counts()\n",
    "\n",
    "    # Create x and y arrays for the bar plot\n",
    "    x = ['Politics', 'Business', 'Entertainment', 'Sport', 'Tech', 'Other']\n",
    "    y = [[df_sum['politics'] if 'politics' in df_sum.index else 0][0],\n",
    "         [df_sum['business'] if 'business' in df_sum.index else 0][0],\n",
    "         [df_sum['entertainment'] if 'entertainment' in df_sum.index else 0][0],\n",
    "         [df_sum['sport'] if 'sport' in df_sum.index else 0][0],\n",
    "         [df_sum['tech'] if 'tech' in df_sum.index else 0][0],\n",
    "         [df_sum['other'] if 'other' in df_sum.index else 0][0]]\n",
    "    \n",
    "    # Create plotly figure\n",
    "    figure = {\n",
    "        'data': [\n",
    "            {'values': y,\n",
    "             'labels': x, \n",
    "             'type': 'pie',\n",
    "             'hole': .4,\n",
    "             'name': '% of news articles',\n",
    "             'marker': {'colors': ['rgb(62, 137, 195)',\n",
    "                                   'rgb(167, 203, 232)',\n",
    "                                   'rgb(197, 223, 242)',\n",
    "                                   'rgb(51, 113, 159)',\n",
    "                                   'rgb(64, 111, 146)',\n",
    "                                   'rgb(31, 84, 132)']},\n",
    "\n",
    "            }\n",
    "        ],\n",
    "        \n",
    "        'layout': {\n",
    "            'title': 'News articles by newspaper',\n",
    "            'plot_bgcolor': colors['graph_background'],\n",
    "            'paper_bgcolor': colors['graph_background'],\n",
    "            'font': {\n",
    "                    'color': colors['text'],\n",
    "                    'size': '10'\n",
    "            }\n",
    "        }\n",
    "        \n",
    "    }\n",
    "    \n",
    "    return figure\n",
    "    \n",
    "    \n",
    "    \n",
    "# Loading CSS\n",
    "app.css.append_css({\"external_url\": \"https://codepen.io/chriddyp/pen/bWLwgP.css\"})\n",
    "app.css.append_css({\"external_url\": \"https://codepen.io/chriddyp/pen/brPBPO.css\"})\n"
   ]
  },
  {
   "cell_type": "code",
   "execution_count": null,
   "metadata": {},
   "outputs": [
    {
     "name": "stdout",
     "output_type": "stream",
     "text": [
      "Dash is running on http://127.0.0.1:8050/\n",
      "\n",
      " * Serving Flask app \"__main__\" (lazy loading)\n",
      " * Environment: production\n",
      "\u001b[31m   WARNING: This is a development server. Do not use it in a production deployment.\u001b[0m\n",
      "\u001b[2m   Use a production WSGI server instead.\u001b[0m\n",
      " * Debug mode: off\n"
     ]
    },
    {
     "name": "stderr",
     "output_type": "stream",
     "text": [
      " * Running on http://127.0.0.1:8050/ (Press CTRL+C to quit)\n",
      "/Users/tejasbhatia/opt/anaconda3/lib/python3.8/site-packages/dash/resources.py:63: UserWarning: You have set your config to `serve_locally=True` but A local version of https://codepen.io/chriddyp/pen/bWLwgP.css is not available.\n",
      "If you added this file with `app.scripts.append_script` or `app.css.append_css`, use `external_scripts` or `external_stylesheets` instead.\n",
      "See https://dash.plot.com/external-resources\n",
      "  warnings.warn(\n",
      "/Users/tejasbhatia/opt/anaconda3/lib/python3.8/site-packages/dash/resources.py:63: UserWarning: You have set your config to `serve_locally=True` but A local version of https://codepen.io/chriddyp/pen/brPBPO.css is not available.\n",
      "If you added this file with `app.scripts.append_script` or `app.css.append_css`, use `external_scripts` or `external_stylesheets` instead.\n",
      "See https://dash.plot.com/external-resources\n",
      "  warnings.warn(\n",
      "127.0.0.1 - - [23/Feb/2021 21:55:13] \"\u001b[37mGET / HTTP/1.1\u001b[0m\" 200 -\n",
      "127.0.0.1 - - [23/Feb/2021 21:55:15] \"\u001b[37mGET /_dash-layout HTTP/1.1\u001b[0m\" 200 -\n",
      "127.0.0.1 - - [23/Feb/2021 21:55:15] \"\u001b[37mGET /_dash-dependencies HTTP/1.1\u001b[0m\" 200 -\n",
      "127.0.0.1 - - [23/Feb/2021 21:55:16] \"\u001b[37mPOST /_dash-update-component HTTP/1.1\u001b[0m\" 200 -\n"
     ]
    },
    {
     "name": "stdout",
     "output_type": "stream",
     "text": [
      "pred: [3].\n",
      "prediction_svc: 3.\n",
      "prediction_svc_proba: [0.13606028 0.32575855 0.04956321 0.42831871 0.06029925].\n",
      "The predicted category using the SVM model is sport.\n",
      "The conditional probability is: 42.83187113511851\n"
     ]
    },
    {
     "name": "stderr",
     "output_type": "stream",
     "text": [
      "127.0.0.1 - - [23/Feb/2021 21:55:24] \"\u001b[37mPOST /_dash-update-component HTTP/1.1\u001b[0m\" 200 -\n"
     ]
    },
    {
     "name": "stdout",
     "output_type": "stream",
     "text": [
      "pred: [2].\n",
      "prediction_svc: 2.\n",
      "prediction_svc_proba: [7.80802608e-02 9.69389503e-04 9.19216468e-01 5.03485054e-04\n",
      " 1.23039642e-03].\n",
      "The predicted category using the SVM model is politics.\n",
      "The conditional probability is: 91.92164681964248\n"
     ]
    }
   ],
   "source": [
    "app.run_server(debug=False)"
   ]
  },
  {
   "cell_type": "code",
   "execution_count": null,
   "metadata": {},
   "outputs": [],
   "source": [
    "predictions = \"business\"\n",
    "#df_show_info = pd.DataFrame()\n",
    "#df = complete_df(df_show_info, predictions)\n",
    "\n",
    "data = [[predictions]]\n",
    "df = pd.DataFrame(data, columns = ['Prediction'])\n",
    "#df = pd.read_json(jsonified_df, orient='split')\n",
    "print(df.head())\n",
    "# Create a summary df\n",
    "df_sum = df['Prediction'].value_counts()\n",
    "print(\"------------------\")\n",
    "print(df_sum.head())\n",
    "# Create x and y arrays for the bar plot\n",
    "x = ['Politics', 'Business', 'Entertainment', 'Sport', 'Tech', 'Other']\n",
    "y = [[df_sum['politics'] if 'politics' in df_sum.index else 0][0],\n",
    "     [df_sum['business'] if 'business' in df_sum.index else 0][0],\n",
    "     [df_sum['entertainment'] if 'entertainment' in df_sum.index else 0][0],\n",
    "     [df_sum['sport'] if 'sport' in df_sum.index else 0][0],\n",
    "     [df_sum['tech'] if 'tech' in df_sum.index else 0][0],\n",
    "     [df_sum['other'] if 'other' in df_sum.index else 0][0]]\n",
    "\n",
    "print(x)\n",
    "print(y)\n",
    "# Create plotly figure\n",
    "figure = {\n",
    "    'data': [\n",
    "        {'values': y,\n",
    "         'labels': x, \n",
    "         'type': 'pie',\n",
    "         'hole': .4,\n",
    "         'name': '% of news articles',\n",
    "         'marker': {'colors': ['rgb(62, 137, 195)',\n",
    "                               'rgb(167, 203, 232)',\n",
    "                               'rgb(197, 223, 242)',\n",
    "                               'rgb(51, 113, 159)',\n",
    "                               'rgb(64, 111, 146)',\n",
    "                               'rgb(31, 84, 132)']},\n",
    "\n",
    "        }\n",
    "    ],\n",
    "    \n",
    "    'layout': {\n",
    "        'title': 'News articles by newspaper',\n",
    "        'plot_bgcolor': colors['graph_background'],\n",
    "        'paper_bgcolor': colors['graph_background'],\n",
    "        'font': {\n",
    "                'color': colors['text'],\n",
    "                'size': '10'\n",
    "        }\n",
    "    }\n",
    "    \n",
    "}"
   ]
  },
  {
   "cell_type": "code",
   "execution_count": null,
   "metadata": {},
   "outputs": [],
   "source": []
  }
 ],
 "metadata": {
  "kernelspec": {
   "display_name": "Python 3",
   "language": "python",
   "name": "python3"
  },
  "language_info": {
   "codemirror_mode": {
    "name": "ipython",
    "version": 3
   },
   "file_extension": ".py",
   "mimetype": "text/x-python",
   "name": "python",
   "nbconvert_exporter": "python",
   "pygments_lexer": "ipython3",
   "version": "3.8.5"
  }
 },
 "nbformat": 4,
 "nbformat_minor": 2
}
